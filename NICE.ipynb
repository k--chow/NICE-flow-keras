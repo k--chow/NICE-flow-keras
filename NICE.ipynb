{
 "cells": [
  {
   "cell_type": "code",
   "execution_count": 33,
   "metadata": {},
   "outputs": [],
   "source": [
    "%matplotlib inline\n"
   ]
  },
  {
   "cell_type": "code",
   "execution_count": 3,
   "metadata": {},
   "outputs": [],
   "source": [
    "from __future__ import print_function, division\n",
    "\n",
    "import imageio\n",
    "\n",
    "\n",
    "import tensorflow.compat.v1 as tf\n",
    "#import tensorflow_probability as tfp\n",
    "import tensorflow_datasets as tfds\n",
    "import numpy as np\n",
    "\n",
    "import os\n",
    "import warnings\n",
    "\n",
    "from functools import partial\n",
    "\n",
    "# Dependency imports\n",
    "from absl import app\n",
    "from absl import flags\n",
    "import matplotlib\n",
    "matplotlib.use('Agg')\n",
    "from matplotlib import figure  # pylint: disable=g-import-not-at-top\n",
    "from matplotlib.backends import backend_agg\n",
    "\n",
    "\n",
    "\n",
    "from tensorflow.keras.datasets import mnist\n",
    "from tensorflow.keras.layers import Input, Dense, Reshape, Flatten, Dropout,Layer\n",
    "from tensorflow.keras.layers import Lambda, Concatenate, BatchNormalization, Activation, ZeroPadding2D,LeakyReLU,UpSampling2D, Conv2D,Add, LayerNormalization\n",
    "from tensorflow.keras.layers import Cropping2D, Conv2DTranspose\n",
    "from tensorflow.keras.layers import LeakyReLU\n",
    "\n",
    "from tensorflow.keras.models import Sequential, Model\n",
    "from tensorflow.keras.optimizers import RMSprop\n",
    "from functools import partial\n",
    "\n",
    "import tensorflow.keras.backend as K\n",
    "\n",
    "import matplotlib.pyplot as plt\n",
    "\n",
    "import sys\n",
    "\n",
    "from random import choice\n",
    "\n",
    "import pdb"
   ]
  },
  {
   "cell_type": "code",
   "execution_count": 72,
   "metadata": {},
   "outputs": [],
   "source": [
    "class TransformationLayer(Layer):\n",
    "    def __init__(self, layers=6, dim=392):\n",
    "        super(TransformationLayer, self).__init__()\n",
    "        self.dense_layers = [Dense(1000, activation=LeakyReLU(alpha=0.1)) for _ in range(layers-1)]\n",
    "        self.final = Dense(dim, activation=LeakyReLU(alpha=0.1))\n",
    "        self.layers = layers\n",
    "    def call(self, inputs):\n",
    "        output = inputs\n",
    "        for dense in self.dense_layers:\n",
    "            output = dense(output)\n",
    "        output = self.final(output)\n",
    "        return output\n",
    " \n",
    "class CoupleLayer(Layer):\n",
    "    def __init__(self, transform_layer):\n",
    "        super(CoupleLayer, self).__init__()\n",
    "        self.m = transform_layer\n",
    "    def call(self, inputs):\n",
    "        y1 = inputs[0]\n",
    "        y2 = inputs[1] + inputs[2] #x2 + mx1\n",
    "        return y1, y2\n",
    "    def inverse(self, inputs):\n",
    "        x1 = inputs[0]\n",
    "        x2 = inputs[1] - inputs[2] #x2 + mx1\n",
    "        return x1, x2\n",
    "\n",
    "class SplitLayer(Layer):\n",
    "    def __init__(self, dim=784):\n",
    "        super(SplitLayer, self).__init__()\n",
    "        self.cutoff = int(dim/2)\n",
    "        \n",
    "    def call(self, inputs):\n",
    "        return inputs[:, :self.cutoff], inputs[:, self.cutoff:]\n",
    "    def inverse(self, inputs):\n",
    "        output = K.concatenate([inputs[0], inputs[1]], axis=1)\n",
    "        return output\n",
    "    \n",
    "class ConcatLayer(Layer):\n",
    "    def __init__(self, dim):\n",
    "        super(ConcatLayer, self).__init__()\n",
    "        self.cutoff = int(dim/2)\n",
    "    def call(self, inputs):\n",
    "        output = K.concatenate([inputs[0], inputs[1]], axis=1)\n",
    "        return output\n",
    "    def inverse(self, inputs):\n",
    "        return inputs[:, :self.cutoff], inputs[:, self.cutoff:]\n",
    "    \n",
    "class PartitionLayer(Layer):\n",
    "    def __init__(self, part_mode='even_odd', orientation=0):\n",
    "        super(PartitionLayer, self).__init__()\n",
    "        self.idx = None\n",
    "        self.part_mode = part_mode\n",
    "        self.orientation= orientation\n",
    "    def call(self, inputs):\n",
    "        dim = K.int_shape(inputs)[-1]\n",
    "        if self.idx == None:\n",
    "            self.idx = list(range(dim))\n",
    "            if self.part_mode == 'reverse':\n",
    "                self.idx = self.idx[::-1]\n",
    "            elif self.part_mode == 'random':\n",
    "                np.random.shuffle(self.idx)\n",
    "            elif self.part_mode=='even_odd':\n",
    "                self.idx = np.array(self.idx)\n",
    "                temp = np.reshape(self.idx, (int(dim/2), 2)) \n",
    "                left = temp[:,0]\n",
    "                right = temp[:,1]\n",
    "                if self.orientation == 1:\n",
    "                    self.idx = list(np.append(left, right))\n",
    "                else:\n",
    "                    self.idx = list(np.append(right, left))\n",
    "        inputs = K.transpose(inputs)\n",
    "        outputs = K.gather(inputs, self.idx)\n",
    "        outputs = K.transpose(outputs)\n",
    "        return outputs\n",
    "    def inverse(self, inputs):\n",
    "        dim = len(self.idx)\n",
    "        _ = sorted(zip(range(dim), self.idx), key=lambda s: s[1])\n",
    "        reverse_idx = [i[0] for i in _]\n",
    "        inputs = K.transpose(inputs)\n",
    "        outputs = K.gather(inputs, reverse_idx)\n",
    "        outputs = K.transpose(outputs)\n",
    "        return outputs\n",
    "\n",
    "\n",
    "class ScaleLayer(Layer): # Hadamard product\n",
    "    def __init__(self):\n",
    "        super(ScaleLayer, self).__init__()\n",
    "    def build(self, input_shape):\n",
    "        self.kernel = self.add_weight(name='kernel', shape=input_shape[1:], initializer='uniform', trainable=True)\n",
    "        #super(ScaleLayer, self).build(input_shape)\n",
    "    def call(self, inputs):\n",
    "        self.add_loss(-1*K.sum(scale.kernel))\n",
    "        return inputs*K.exp(self.kernel)\n",
    "    def inverse(self, inputs):\n",
    "        return inputs*K.exp(-self.kernel)"
   ]
  },
  {
   "cell_type": "code",
   "execution_count": 4,
   "metadata": {},
   "outputs": [],
   "source": [
    "(x_train, y_train), (x_test, y_test) = mnist.load_data()\n",
    "# reshape into 1 dimension\n"
   ]
  },
  {
   "cell_type": "code",
   "execution_count": 5,
   "metadata": {},
   "outputs": [
    {
     "data": {
      "text/plain": [
       "numpy.ndarray"
      ]
     },
     "execution_count": 5,
     "metadata": {},
     "output_type": "execute_result"
    }
   ],
   "source": [
    "type(x_train)"
   ]
  },
  {
   "cell_type": "code",
   "execution_count": 6,
   "metadata": {},
   "outputs": [],
   "source": [
    "np.shape(x_train)\n",
    "x_train_reshaped = x_train.astype('float32') / 255"
   ]
  },
  {
   "cell_type": "code",
   "execution_count": 7,
   "metadata": {},
   "outputs": [],
   "source": [
    "x_train_reshaped = np.reshape(x_train_reshaped, (60000, 28*28))"
   ]
  },
  {
   "cell_type": "code",
   "execution_count": 8,
   "metadata": {},
   "outputs": [
    {
     "data": {
      "text/plain": [
       "True"
      ]
     },
     "execution_count": 8,
     "metadata": {},
     "output_type": "execute_result"
    }
   ],
   "source": [
    "tf.executing_eagerly()"
   ]
  },
  {
   "cell_type": "code",
   "execution_count": 76,
   "metadata": {},
   "outputs": [],
   "source": [
    "class NICE():\n",
    "    def __init__(self, coupling_layers=4, prior='logistic', total_dim=784, img_dim=(28,28)):\n",
    "        # prior loss\n",
    "        self.prior = prior\n",
    "        self.total_dim = total_dim\n",
    "        self.img_dim = img_dim\n",
    "        self.split = SplitLayer(dim=self.total_dim)\n",
    "        # layers into boy\n",
    "        # keep a functional version too. Makes sense to me.\n",
    "        self.transform1 = TransformationLayer()\n",
    "        self.transform2 = TransformationLayer()\n",
    "        self.transform3 = TransformationLayer()\n",
    "        self.transform4 = TransformationLayer()\n",
    "\n",
    "        self.couple1 = CoupleLayer(self.transform1)\n",
    "        self.couple2 = CoupleLayer(self.transform2)\n",
    "        self.couple3 = CoupleLayer(self.transform3)\n",
    "        self.couple4 = CoupleLayer(self.transform4)\n",
    "\n",
    "        self.concat = ConcatLayer()\n",
    "        self.scale = ScaleLayer()\n",
    "        self.partition1 = PartitionLayer(orientation=1, part_mode='even_odd')\n",
    "        self.partition2 = PartitionLayer(orientation=0)\n",
    "        self.partition3 = PartitionLayer(orientation=1)\n",
    "        self.partition4 = PartitionLayer(orientation=0)\n",
    "        \n",
    "        self.partial_scale_loss = partial(self.scale_loss, scale=self.scale)\n",
    "        self.partial_scale_loss.__name__ = \"scale\"\n",
    "\n",
    "        partial_total_loss = partial(total_loss, scale=self.scale)\n",
    "        partial_total_loss.__name__ = 'total'\n",
    "\n",
    "        optimizer = tf.keras.optimizers.Adam(lr=0.0001, epsilon=1e-4, beta_2=0.01)\n",
    "        self.encoder = self.build_encoder()\n",
    "        # this shit broke as fuck, be careful\n",
    "        encoder.compile(loss = [self.ml_loss, self.scale_loss], optimizer=optimizer, metrics=[ml_loss, self.partial_scale_loss], loss_weights=[1, 1])\n",
    "        #encoder.compile(loss = partial_total_loss, optimizer=optimizer, metrics=[partial_total_loss, ml_loss, self.partial_scale_loss])\n",
    "        #encoder.compile(loss = ml_loss, optimizer=optimizer, metrics=[partial_total_loss, ml_loss, self.partial_scale_loss])\n",
    "        self.decoder = None # initialize after training\n",
    "        \n",
    "    def build_encoder(self):\n",
    "        img_shape = (28*28)\n",
    "        img = Input(shape=(28*28))\n",
    "        #img2 = Lambda(lambda s: K.in_train_phase(s-0.01*K.random_uniform(K.shape(s)), s))(img)\n",
    "        # self.partition\n",
    "        # self.split in half = x1 x2\n",
    "        partitiond = self.partition1(img)\n",
    "        x1, x2 = self.split(partitiond)\n",
    "        # do a self.transform\n",
    "        mx1 = self.transform1(x1)\n",
    "        # self.couple x2 + m*(x1)\n",
    "        y1, y2 = self.couple1([x1, x2, mx1])\n",
    "        y = self.concat([y1, y2])\n",
    "\n",
    "        y = self.partition2(y)\n",
    "        x1, x2 = self.split(y)\n",
    "        # do a self.transform\n",
    "        mx1 = self.transform2(x1)\n",
    "        # self.couple x2 + m*(x1)\n",
    "        y1, y2 = self.couple2([x1, x2, mx1])\n",
    "        y = self.concat([y1, y2])\n",
    "\n",
    "        y = self.partition3(y)\n",
    "        x1, x2 = self.split(y)\n",
    "        # do a self.transform\n",
    "        mx1 = self.transform3(x1)\n",
    "        # self.couple x2 + m*(x1)\n",
    "        y1, y2 = self.couple3([x1, x2, mx1])\n",
    "        y = self.concat([y1, y2])\n",
    "\n",
    "        y = self.partition4(y)\n",
    "        x1, x2 = self.split(y)\n",
    "        # do a self.transform\n",
    "        mx1 = self.transform4(x1)\n",
    "        # self.couple x2 + m*(x1)\n",
    "        y1, y2 = self.couple4([x1, x2, mx1])\n",
    "        y = self.concat([y1, y2])\n",
    "        y = self.scale(y)\n",
    "\n",
    "        # don't forget the loss of the self.scale\n",
    "        encoder = Model([img], [y])\n",
    "        encoder.summary()\n",
    "        return encoder\n",
    "    \n",
    "    def scale_loss(self, y_true, y_pred, scale): \n",
    "        return -1*K.sum(self.scale.kernel)\n",
    "    \n",
    "    def ml_loss(self, y_true, y_pred):\n",
    "        loss = None\n",
    "        if self.prior == 'gaussian':\n",
    "            loss = K.sum(0.5 * y_pred**2, 1)\n",
    "        elif self.prior == 'logistic':\n",
    "            loss = K.sum ( K.softplus(y_pred) + K.softplus(-y_pred), axis=1 )\n",
    "        return loss\n",
    "\n",
    "    def total_loss(self, y_true, y_pred, scale):\n",
    "        return self.ml_loss(y_true, y_pred) + self.scale_loss(y_true, y_pred, self.scale)\n",
    "\n",
    "    def train(self, x_train, batch_size=256, epochs=10):\n",
    "        encoder.fit(x_train, x_train, batch_size=batch_size, epochs=epochs, verbose=2)\n",
    "\n",
    "    def build_decoder(self):\n",
    "        latent = Input(shape=(self.total_dim))\n",
    "        sample_inversed = self.scale.inverse(latent)\n",
    "\n",
    "        y1, y2 = self.concat.inverse(sample_inversed)\n",
    "        my1 = self.transform4(y1)\n",
    "        x1, x2 = self.couple4.inverse([y1, y2, my1]) \n",
    "        x = self.split.inverse([x1, x2])\n",
    "        x = self.partition4.inverse(x)\n",
    "\n",
    "        y1, y2 = self.concat.inverse(x)\n",
    "        my1 = self.transform3(y1)\n",
    "        x1, x2 = self.couple3.inverse([y1, y2, my1]) \n",
    "        x = self.split.inverse([x1, x2])\n",
    "        x = self.partition3.inverse(x)\n",
    "\n",
    "        y1, y2 = self.concat.inverse(x)\n",
    "        my1 = self.transform2(y1)\n",
    "        x1, x2 = self.couple2.inverse([y1, y2, my1]) \n",
    "        x = self.split.inverse([x1, x2])\n",
    "        x = self.partition2.inverse(x)\n",
    "\n",
    "        y1, y2 = self.concat.inverse(x)\n",
    "        my1 = self.transform1(y1)\n",
    "        x1, x2 = self.couple1.inverse([y1, y2, my1]) \n",
    "        x = self.split.inverse([x1, x2])\n",
    "        x = self.partition1.inverse(x)\n",
    "\n",
    "        decoder = Model([latent], [x])\n",
    "        decoder.summary()\n",
    "        self.decoder = decoder\n",
    "    def sample(self, noise):\n",
    "        if self.decoder:\n",
    "            return self.decoder(noise)\n",
    "        return None\n",
    "    \n",
    "    def sample_to_file(self, rows):\n",
    "        figure = np.zeros((self.img_size[0] * n, self.img_size[0] * n))\n",
    "        \n",
    "        for i in range(rows):\n",
    "            for j in range(rows):\n",
    "                z_sample = np.array(np.random.randn(1, self.total_dim)) * 0.75\n",
    "                x_decoded = decoder.predict(z_sample)\n",
    "                digit = x_decoded[0].reshape(self.img_size[0], self.img_size[0])\n",
    "                figure[i * self.img_size[0]: (i + 1) * self.img_size[0],\n",
    "                       j * self.img_size[0]: (j + 1) * self.img_size[0]] = digit\n",
    "\n",
    "        figure = np.clip(figure*255, 0, 255)\n",
    "        imageio.imwrite('test.png', figure)\n"
   ]
  },
  {
   "cell_type": "code",
   "execution_count": 67,
   "metadata": {},
   "outputs": [
    {
     "name": "stdout",
     "output_type": "stream",
     "text": [
      "Model: \"model_6\"\n",
      "__________________________________________________________________________________________________\n",
      "Layer (type)                    Output Shape         Param #     Connected to                     \n",
      "==================================================================================================\n",
      "input_10 (InputLayer)           [(None, 784)]        0                                            \n",
      "__________________________________________________________________________________________________\n",
      "partition_layer_41 (PartitionLa (None, 784)          0           input_10[0][0]                   \n",
      "__________________________________________________________________________________________________\n",
      "split_layer_17 (SplitLayer)     ((None, 392), (None, 0           partition_layer_41[0][0]         \n",
      "                                                                 partition_layer_42[0][0]         \n",
      "                                                                 partition_layer_43[0][0]         \n",
      "                                                                 partition_layer_44[0][0]         \n",
      "__________________________________________________________________________________________________\n",
      "transformation_layer_60 (Transf (None, 392)          4789392     split_layer_17[0][0]             \n",
      "__________________________________________________________________________________________________\n",
      "couple_layer_56 (CoupleLayer)   ((None, 392), (None, 4789392     split_layer_17[0][0]             \n",
      "                                                                 split_layer_17[0][1]             \n",
      "                                                                 transformation_layer_60[0][0]    \n",
      "__________________________________________________________________________________________________\n",
      "concat_layer_14 (ConcatLayer)   (None, 784)          0           couple_layer_56[0][0]            \n",
      "                                                                 couple_layer_56[0][1]            \n",
      "                                                                 couple_layer_57[0][0]            \n",
      "                                                                 couple_layer_57[0][1]            \n",
      "                                                                 couple_layer_58[0][0]            \n",
      "                                                                 couple_layer_58[0][1]            \n",
      "                                                                 couple_layer_59[0][0]            \n",
      "                                                                 couple_layer_59[0][1]            \n",
      "__________________________________________________________________________________________________\n",
      "partition_layer_42 (PartitionLa (None, 784)          0           concat_layer_14[0][0]            \n",
      "__________________________________________________________________________________________________\n",
      "transformation_layer_61 (Transf (None, 392)          4789392     split_layer_17[1][0]             \n",
      "__________________________________________________________________________________________________\n",
      "couple_layer_57 (CoupleLayer)   ((None, 392), (None, 4789392     split_layer_17[1][0]             \n",
      "                                                                 split_layer_17[1][1]             \n",
      "                                                                 transformation_layer_61[0][0]    \n",
      "__________________________________________________________________________________________________\n",
      "partition_layer_43 (PartitionLa (None, 784)          0           concat_layer_14[1][0]            \n",
      "__________________________________________________________________________________________________\n",
      "transformation_layer_62 (Transf (None, 392)          4789392     split_layer_17[2][0]             \n",
      "__________________________________________________________________________________________________\n",
      "couple_layer_58 (CoupleLayer)   ((None, 392), (None, 4789392     split_layer_17[2][0]             \n",
      "                                                                 split_layer_17[2][1]             \n",
      "                                                                 transformation_layer_62[0][0]    \n",
      "__________________________________________________________________________________________________\n",
      "partition_layer_44 (PartitionLa (None, 784)          0           concat_layer_14[2][0]            \n",
      "__________________________________________________________________________________________________\n",
      "transformation_layer_63 (Transf (None, 392)          4789392     split_layer_17[3][0]             \n",
      "__________________________________________________________________________________________________\n",
      "couple_layer_59 (CoupleLayer)   ((None, 392), (None, 4789392     split_layer_17[3][0]             \n",
      "                                                                 split_layer_17[3][1]             \n",
      "                                                                 transformation_layer_63[0][0]    \n",
      "__________________________________________________________________________________________________\n",
      "scale_layer_14 (ScaleLayer)     (None, 784)          784         concat_layer_14[3][0]            \n",
      "==================================================================================================\n",
      "Total params: 19,158,352\n",
      "Trainable params: 19,158,352\n",
      "Non-trainable params: 0\n",
      "__________________________________________________________________________________________________\n"
     ]
    }
   ],
   "source": [
    "nice = NICE()"
   ]
  },
  {
   "cell_type": "markdown",
   "metadata": {},
   "source": [
    "If our model works, it should perfectly return an input sample, even before training,"
   ]
  },
  {
   "cell_type": "code",
   "execution_count": 71,
   "metadata": {},
   "outputs": [
    {
     "name": "stdout",
     "output_type": "stream",
     "text": [
      "Model: \"model_9\"\n",
      "__________________________________________________________________________________________________\n",
      "Layer (type)                    Output Shape         Param #     Connected to                     \n",
      "==================================================================================================\n",
      "input_13 (InputLayer)           [(None, 784)]        0                                            \n",
      "__________________________________________________________________________________________________\n",
      "tf_op_layer_Mul_4 (TensorFlowOp [(None, 784)]        0           input_13[0][0]                   \n",
      "__________________________________________________________________________________________________\n",
      "tf_op_layer_strided_slice_26 (T [(None, 392)]        0           tf_op_layer_Mul_4[0][0]          \n",
      "__________________________________________________________________________________________________\n",
      "tf_op_layer_strided_slice_27 (T [(None, 392)]        0           tf_op_layer_Mul_4[0][0]          \n",
      "__________________________________________________________________________________________________\n",
      "transformation_layer_63 (Transf (None, 392)          4789392     tf_op_layer_strided_slice_26[0][0\n",
      "__________________________________________________________________________________________________\n",
      "tf_op_layer_Sub_13 (TensorFlowO [(None, 392)]        0           tf_op_layer_strided_slice_27[0][0\n",
      "                                                                 transformation_layer_63[3][0]    \n",
      "__________________________________________________________________________________________________\n",
      "tf_op_layer_concat_13 (TensorFl [(None, 784)]        0           tf_op_layer_strided_slice_26[0][0\n",
      "                                                                 tf_op_layer_Sub_13[0][0]         \n",
      "__________________________________________________________________________________________________\n",
      "tf_op_layer_Transpose_24 (Tenso [(784, None)]        0           tf_op_layer_concat_13[0][0]      \n",
      "__________________________________________________________________________________________________\n",
      "tf_op_layer_GatherV2_12 (Tensor [(784, None)]        0           tf_op_layer_Transpose_24[0][0]   \n",
      "__________________________________________________________________________________________________\n",
      "tf_op_layer_Transpose_25 (Tenso [(None, 784)]        0           tf_op_layer_GatherV2_12[0][0]    \n",
      "__________________________________________________________________________________________________\n",
      "tf_op_layer_strided_slice_28 (T [(None, 392)]        0           tf_op_layer_Transpose_25[0][0]   \n",
      "__________________________________________________________________________________________________\n",
      "tf_op_layer_strided_slice_29 (T [(None, 392)]        0           tf_op_layer_Transpose_25[0][0]   \n",
      "__________________________________________________________________________________________________\n",
      "transformation_layer_62 (Transf (None, 392)          4789392     tf_op_layer_strided_slice_28[0][0\n",
      "__________________________________________________________________________________________________\n",
      "tf_op_layer_Sub_14 (TensorFlowO [(None, 392)]        0           tf_op_layer_strided_slice_29[0][0\n",
      "                                                                 transformation_layer_62[3][0]    \n",
      "__________________________________________________________________________________________________\n",
      "tf_op_layer_concat_14 (TensorFl [(None, 784)]        0           tf_op_layer_strided_slice_28[0][0\n",
      "                                                                 tf_op_layer_Sub_14[0][0]         \n",
      "__________________________________________________________________________________________________\n",
      "tf_op_layer_Transpose_26 (Tenso [(784, None)]        0           tf_op_layer_concat_14[0][0]      \n",
      "__________________________________________________________________________________________________\n",
      "tf_op_layer_GatherV2_13 (Tensor [(784, None)]        0           tf_op_layer_Transpose_26[0][0]   \n",
      "__________________________________________________________________________________________________\n",
      "tf_op_layer_Transpose_27 (Tenso [(None, 784)]        0           tf_op_layer_GatherV2_13[0][0]    \n",
      "__________________________________________________________________________________________________\n",
      "tf_op_layer_strided_slice_30 (T [(None, 392)]        0           tf_op_layer_Transpose_27[0][0]   \n",
      "__________________________________________________________________________________________________\n",
      "tf_op_layer_strided_slice_31 (T [(None, 392)]        0           tf_op_layer_Transpose_27[0][0]   \n",
      "__________________________________________________________________________________________________\n",
      "transformation_layer_61 (Transf (None, 392)          4789392     tf_op_layer_strided_slice_30[0][0\n",
      "__________________________________________________________________________________________________\n",
      "tf_op_layer_Sub_15 (TensorFlowO [(None, 392)]        0           tf_op_layer_strided_slice_31[0][0\n",
      "                                                                 transformation_layer_61[3][0]    \n",
      "__________________________________________________________________________________________________\n",
      "tf_op_layer_concat_15 (TensorFl [(None, 784)]        0           tf_op_layer_strided_slice_30[0][0\n",
      "                                                                 tf_op_layer_Sub_15[0][0]         \n",
      "__________________________________________________________________________________________________\n",
      "tf_op_layer_Transpose_28 (Tenso [(784, None)]        0           tf_op_layer_concat_15[0][0]      \n",
      "__________________________________________________________________________________________________\n",
      "tf_op_layer_GatherV2_14 (Tensor [(784, None)]        0           tf_op_layer_Transpose_28[0][0]   \n",
      "__________________________________________________________________________________________________\n",
      "tf_op_layer_Transpose_29 (Tenso [(None, 784)]        0           tf_op_layer_GatherV2_14[0][0]    \n",
      "__________________________________________________________________________________________________\n",
      "tf_op_layer_strided_slice_32 (T [(None, 392)]        0           tf_op_layer_Transpose_29[0][0]   \n",
      "__________________________________________________________________________________________________\n",
      "tf_op_layer_strided_slice_33 (T [(None, 392)]        0           tf_op_layer_Transpose_29[0][0]   \n",
      "__________________________________________________________________________________________________\n",
      "transformation_layer_60 (Transf (None, 392)          4789392     tf_op_layer_strided_slice_32[0][0\n",
      "__________________________________________________________________________________________________\n",
      "tf_op_layer_Sub_16 (TensorFlowO [(None, 392)]        0           tf_op_layer_strided_slice_33[0][0\n",
      "                                                                 transformation_layer_60[3][0]    \n",
      "__________________________________________________________________________________________________\n",
      "tf_op_layer_concat_16 (TensorFl [(None, 784)]        0           tf_op_layer_strided_slice_32[0][0\n",
      "                                                                 tf_op_layer_Sub_16[0][0]         \n",
      "__________________________________________________________________________________________________\n",
      "tf_op_layer_Transpose_30 (Tenso [(784, None)]        0           tf_op_layer_concat_16[0][0]      \n",
      "__________________________________________________________________________________________________\n",
      "tf_op_layer_GatherV2_15 (Tensor [(784, None)]        0           tf_op_layer_Transpose_30[0][0]   \n",
      "__________________________________________________________________________________________________\n",
      "tf_op_layer_Transpose_31 (Tenso [(None, 784)]        0           tf_op_layer_GatherV2_15[0][0]    \n",
      "==================================================================================================\n",
      "Total params: 19,157,568\n",
      "Trainable params: 19,157,568\n",
      "Non-trainable params: 0\n",
      "__________________________________________________________________________________________________\n"
     ]
    }
   ],
   "source": [
    "nice.build_decoder()"
   ]
  },
  {
   "cell_type": "code",
   "execution_count": 69,
   "metadata": {},
   "outputs": [
    {
     "data": {
      "text/plain": [
       "<matplotlib.image.AxesImage at 0x7ff4f01653d0>"
      ]
     },
     "execution_count": 69,
     "metadata": {},
     "output_type": "execute_result"
    },
    {
     "data": {
      "image/png": "[encoded data removed]",
      "text/plain": [
       "<Figure size 432x288 with 1 Axes>"
      ]
     },
     "metadata": {
      "needs_background": "light"
     },
     "output_type": "display_data"
    }
   ],
   "source": [
    "plt.imshow(np.reshape(x_train_reshaped[0]*255, (28, 28)))"
   ]
  },
  {
   "cell_type": "code",
   "execution_count": 70,
   "metadata": {},
   "outputs": [
    {
     "name": "stdout",
     "output_type": "stream",
     "text": [
      "Model: \"model_8\"\n",
      "__________________________________________________________________________________________________\n",
      "Layer (type)                    Output Shape         Param #     Connected to                     \n",
      "==================================================================================================\n",
      "input_12 (InputLayer)           [(None, 784)]        0                                            \n",
      "__________________________________________________________________________________________________\n",
      "tf_op_layer_Mul_3 (TensorFlowOp [(None, 784)]        0           input_12[0][0]                   \n",
      "__________________________________________________________________________________________________\n",
      "tf_op_layer_strided_slice_18 (T [(None, 392)]        0           tf_op_layer_Mul_3[0][0]          \n",
      "__________________________________________________________________________________________________\n",
      "tf_op_layer_strided_slice_19 (T [(None, 392)]        0           tf_op_layer_Mul_3[0][0]          \n",
      "__________________________________________________________________________________________________\n",
      "transformation_layer_63 (Transf (None, 392)          4789392     tf_op_layer_strided_slice_18[0][0\n",
      "__________________________________________________________________________________________________\n",
      "tf_op_layer_Sub_9 (TensorFlowOp [(None, 392)]        0           tf_op_layer_strided_slice_19[0][0\n",
      "                                                                 transformation_layer_63[2][0]    \n",
      "__________________________________________________________________________________________________\n",
      "tf_op_layer_concat_9 (TensorFlo [(None, 784)]        0           tf_op_layer_strided_slice_18[0][0\n",
      "                                                                 tf_op_layer_Sub_9[0][0]          \n",
      "__________________________________________________________________________________________________\n",
      "tf_op_layer_Transpose_16 (Tenso [(784, None)]        0           tf_op_layer_concat_9[0][0]       \n",
      "__________________________________________________________________________________________________\n",
      "tf_op_layer_GatherV2_8 (TensorF [(784, None)]        0           tf_op_layer_Transpose_16[0][0]   \n",
      "__________________________________________________________________________________________________\n",
      "tf_op_layer_Transpose_17 (Tenso [(None, 784)]        0           tf_op_layer_GatherV2_8[0][0]     \n",
      "__________________________________________________________________________________________________\n",
      "tf_op_layer_strided_slice_20 (T [(None, 392)]        0           tf_op_layer_Transpose_17[0][0]   \n",
      "__________________________________________________________________________________________________\n",
      "tf_op_layer_strided_slice_21 (T [(None, 392)]        0           tf_op_layer_Transpose_17[0][0]   \n",
      "__________________________________________________________________________________________________\n",
      "transformation_layer_62 (Transf (None, 392)          4789392     tf_op_layer_strided_slice_20[0][0\n",
      "__________________________________________________________________________________________________\n",
      "tf_op_layer_Sub_10 (TensorFlowO [(None, 392)]        0           tf_op_layer_strided_slice_21[0][0\n",
      "                                                                 transformation_layer_62[2][0]    \n",
      "__________________________________________________________________________________________________\n",
      "tf_op_layer_concat_10 (TensorFl [(None, 784)]        0           tf_op_layer_strided_slice_20[0][0\n",
      "                                                                 tf_op_layer_Sub_10[0][0]         \n",
      "__________________________________________________________________________________________________\n",
      "tf_op_layer_Transpose_18 (Tenso [(784, None)]        0           tf_op_layer_concat_10[0][0]      \n",
      "__________________________________________________________________________________________________\n",
      "tf_op_layer_GatherV2_9 (TensorF [(784, None)]        0           tf_op_layer_Transpose_18[0][0]   \n",
      "__________________________________________________________________________________________________\n",
      "tf_op_layer_Transpose_19 (Tenso [(None, 784)]        0           tf_op_layer_GatherV2_9[0][0]     \n",
      "__________________________________________________________________________________________________\n",
      "tf_op_layer_strided_slice_22 (T [(None, 392)]        0           tf_op_layer_Transpose_19[0][0]   \n",
      "__________________________________________________________________________________________________\n",
      "tf_op_layer_strided_slice_23 (T [(None, 392)]        0           tf_op_layer_Transpose_19[0][0]   \n",
      "__________________________________________________________________________________________________\n",
      "transformation_layer_61 (Transf (None, 392)          4789392     tf_op_layer_strided_slice_22[0][0\n",
      "__________________________________________________________________________________________________\n",
      "tf_op_layer_Sub_11 (TensorFlowO [(None, 392)]        0           tf_op_layer_strided_slice_23[0][0\n",
      "                                                                 transformation_layer_61[2][0]    \n",
      "__________________________________________________________________________________________________\n",
      "tf_op_layer_concat_11 (TensorFl [(None, 784)]        0           tf_op_layer_strided_slice_22[0][0\n",
      "                                                                 tf_op_layer_Sub_11[0][0]         \n",
      "__________________________________________________________________________________________________\n",
      "tf_op_layer_Transpose_20 (Tenso [(784, None)]        0           tf_op_layer_concat_11[0][0]      \n",
      "__________________________________________________________________________________________________\n",
      "tf_op_layer_GatherV2_10 (Tensor [(784, None)]        0           tf_op_layer_Transpose_20[0][0]   \n",
      "__________________________________________________________________________________________________\n",
      "tf_op_layer_Transpose_21 (Tenso [(None, 784)]        0           tf_op_layer_GatherV2_10[0][0]    \n",
      "__________________________________________________________________________________________________\n",
      "tf_op_layer_strided_slice_24 (T [(None, 392)]        0           tf_op_layer_Transpose_21[0][0]   \n",
      "__________________________________________________________________________________________________\n",
      "tf_op_layer_strided_slice_25 (T [(None, 392)]        0           tf_op_layer_Transpose_21[0][0]   \n",
      "__________________________________________________________________________________________________\n",
      "transformation_layer_60 (Transf (None, 392)          4789392     tf_op_layer_strided_slice_24[0][0\n",
      "__________________________________________________________________________________________________\n",
      "tf_op_layer_Sub_12 (TensorFlowO [(None, 392)]        0           tf_op_layer_strided_slice_25[0][0\n",
      "                                                                 transformation_layer_60[2][0]    \n",
      "__________________________________________________________________________________________________\n",
      "tf_op_layer_concat_12 (TensorFl [(None, 784)]        0           tf_op_layer_strided_slice_24[0][0\n",
      "                                                                 tf_op_layer_Sub_12[0][0]         \n",
      "__________________________________________________________________________________________________\n",
      "tf_op_layer_Transpose_22 (Tenso [(784, None)]        0           tf_op_layer_concat_12[0][0]      \n",
      "__________________________________________________________________________________________________\n",
      "tf_op_layer_GatherV2_11 (Tensor [(784, None)]        0           tf_op_layer_Transpose_22[0][0]   \n",
      "__________________________________________________________________________________________________\n",
      "tf_op_layer_Transpose_23 (Tenso [(None, 784)]        0           tf_op_layer_GatherV2_11[0][0]    \n",
      "==================================================================================================\n",
      "Total params: 19,157,568\n",
      "Trainable params: 19,157,568\n",
      "Non-trainable params: 0\n",
      "__________________________________________________________________________________________________\n"
     ]
    },
    {
     "data": {
      "text/plain": [
       "<matplotlib.image.AxesImage at 0x7ff4e07a7690>"
      ]
     },
     "execution_count": 70,
     "metadata": {},
     "output_type": "execute_result"
    },
    {
     "data": {
      "image/png": "[encoded data removed]",
      "text/plain": [
       "<Figure size 432x288 with 1 Axes>"
      ]
     },
     "metadata": {
      "needs_background": "light"
     },
     "output_type": "display_data"
    }
   ],
   "source": [
    "sample = nice.encoder(x_train_reshaped[0:1])\n",
    "plt.imshow(np.reshape(nice.sample(sample)[0]*255, (28, 28)))"
   ]
  },
  {
   "cell_type": "code",
   "execution_count": 65,
   "metadata": {},
   "outputs": [
    {
     "name": "stdout",
     "output_type": "stream",
     "text": [
      "Epoch 1/10\n"
     ]
    },
    {
     "name": "stderr",
     "output_type": "stream",
     "text": [
      "/home/kchow/anaconda3/lib/python3.7/site-packages/tensorflow/python/framework/indexed_slices.py:434: UserWarning: Converting sparse IndexedSlices to a dense Tensor of unknown shape. This may consume a large amount of memory.\n",
      "  \"Converting sparse IndexedSlices to a dense Tensor of unknown shape. \"\n"
     ]
    },
    {
     "name": "stdout",
     "output_type": "stream",
     "text": [
      "235/235 - 2s - loss: 1090.0120 - ml_loss: 1100.6116 - scale: 0.6713\n",
      "Epoch 2/10\n",
      "235/235 - 2s - loss: 1067.2042 - ml_loss: 1096.2172 - scale: 0.6713\n",
      "Epoch 3/10\n",
      "235/235 - 2s - loss: 1047.5137 - ml_loss: 1094.9469 - scale: 0.6713\n",
      "Epoch 4/10\n",
      "235/235 - 2s - loss: 1028.5917 - ml_loss: 1094.4462 - scale: 0.6713\n",
      "Epoch 5/10\n",
      "235/235 - 2s - loss: 1009.9269 - ml_loss: 1094.2032 - scale: 0.6713\n",
      "Epoch 6/10\n",
      "235/235 - 2s - loss: 991.3970 - ml_loss: 1094.0959 - scale: 0.6713\n",
      "Epoch 7/10\n",
      "235/235 - 2s - loss: 972.9176 - ml_loss: 1094.0382 - scale: 0.6713\n",
      "Epoch 8/10\n",
      "235/235 - 2s - loss: 954.5137 - ml_loss: 1094.0574 - scale: 0.6713\n",
      "Epoch 9/10\n",
      "235/235 - 2s - loss: 936.1445 - ml_loss: 1094.1100 - scale: 0.6713\n",
      "Epoch 10/10\n",
      "235/235 - 2s - loss: 917.8488 - ml_loss: 1094.2375 - scale: 0.6713\n"
     ]
    }
   ],
   "source": [
    "nice.train(x_train_reshaped)"
   ]
  },
  {
   "cell_type": "code",
   "execution_count": 78,
   "metadata": {},
   "outputs": [
    {
     "data": {
      "text/plain": [
       "<matplotlib.image.AxesImage at 0x7ff4e04be590>"
      ]
     },
     "execution_count": 78,
     "metadata": {},
     "output_type": "execute_result"
    },
    {
     "data": {
      "image/png": "[encoded data removed]",
      "text/plain": [
       "<Figure size 432x288 with 1 Axes>"
      ]
     },
     "metadata": {
      "needs_background": "light"
     },
     "output_type": "display_data"
    }
   ],
   "source": [
    "samples = np.random.randn(10, 28*28)*0.75\n",
    "samples = nice.sample(samples)\n",
    "plt.imshow(np.reshape(samples[1]*255, (28, 28)))"
   ]
  },
  {
   "cell_type": "code",
   "execution_count": null,
   "metadata": {},
   "outputs": [],
   "source": []
  }
 ],
 "metadata": {
  "kernelspec": {
   "display_name": "Python 3",
   "language": "python",
   "name": "python3"
  },
  "language_info": {
   "codemirror_mode": {
    "name": "ipython",
    "version": 3
   },
   "file_extension": ".py",
   "mimetype": "text/x-python",
   "name": "python",
   "nbconvert_exporter": "python",
   "pygments_lexer": "ipython3",
   "version": "3.7.6"
  }
 },
 "nbformat": 4,
 "nbformat_minor": 4
}
